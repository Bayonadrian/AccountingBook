{
 "cells": [
  {
   "cell_type": "code",
   "execution_count": 1,
   "id": "9f223892",
   "metadata": {
    "lang": "es",
    "tags": [
     "remove-input"
    ]
   },
   "outputs": [],
   "source": [
    "import ipysheet\n",
    "import pandas as pd\n",
    "import numpy as np\n",
    "import matplotlib.pyplot as plt"
   ]
  },
  {
   "cell_type": "markdown",
   "id": "a84331e7",
   "metadata": {
    "lang": "en"
   },
   "source": [
    "# Accounting\n",
    "\n",
    "Accounting is the system of control and registration of expenses, income and other operations that are carried out within a business, company or entity."
   ]
  },
  {
   "cell_type": "markdown",
   "id": "d872c958",
   "metadata": {
    "lang": "en"
   },
   "source": [
    "# Cost\n",
    "\n",
    "The cost to accountants is the cost to be able to achieve a specific objective. This is one of the most essential concepts for accounting."
   ]
  },
  {
   "cell_type": "markdown",
   "id": "f131f175",
   "metadata": {
    "lang": "en"
   },
   "source": [
    "# Cost Accounting\n",
    "\n",
    "Cost accounting measures and reports financial and non-financial information related to the acquisition and use of resources. It seeks to provide information related to:\n",
    "\n",
    "- The accumulation of costs and use of resources to produce and sell products and services by the company.\n",
    "\n",
    "- The recovery of costs related to the purchase of products and services by customers."
   ]
  },
  {
   "cell_type": "markdown",
   "id": "b4a54939",
   "metadata": {
    "lang": "en"
   },
   "source": [
    "# Cost Management\n",
    "\n",
    "Cost management includes the identification, reporting and analysis of all operating costs, in turn managing operations in a range that goes from quality to quantity of materials. Closing of divisions is also included."
   ]
  },
  {
   "cell_type": "markdown",
   "id": "2352a54d",
   "metadata": {
    "lang": "en"
   },
   "source": [
    "## Financial Accounting\n",
    "\n",
    "Financial accounting focuses on reporting to external parties, which can be investors, regulators, banks and others, in a clear and honest way the economic situation of the company, using standardized reports which reveal the position of the company in a period of time. These reports are known as:\n",
    "\n",
    "- Income statement (statement of comprehensive income).\n",
    "- Balance sheet (statement of financial position).\n",
    "- Statement of cash flow.\n",
    "\n",
    "Financial accountants report financial results based on generally accepted accounting principles and standards (GAAP). In Canada there are two formats IFRS and ASPE."
   ]
  },
  {
   "cell_type": "markdown",
   "id": "0c4c7e44",
   "metadata": {
    "lang": "en"
   },
   "source": [
    "## Management accounting\n",
    "\n",
    "Business accounting measures, analyzes and reports financial and non-financial information to the internal managers of the company, what is sought is to use past information to predict future information."
   ]
  },
  {
   "cell_type": "markdown",
   "id": "097ebfd8",
   "metadata": {
    "lang": "es"
   },
   "source": [
    "## Contrast\n",
    "\n",
    "| | Management accounting | Financial|\n",
    "| :- | :- | :- |\n",
    "|purpose | Help managers make decisions | Communicate the financial situation of the organization |\n",
    "|Main users | Organization Manager | External users such as investors, banks, regulators...|\n",
    "|Focus and emphasis | Future oriented | Oriented to the past |\n",
    "|Measuring and reporting rules | Internal reports do not have to follow IFRS/ASPE, but are based on cost-benefit analysis | Must be prepared in accordance with IFRS/ASPE rules |\n",
    "|Time lapse | Hourly reports for 15 to 20 years with financial and non-financial information on the areas of the company | Annual and Quarterly Financial Reports Presented as Consolidated Financial Reports |\n",
    "| Behavioral implications | Influencing managers and other employees | Information about economic events and also influences behavior |"
   ]
  },
  {
   "cell_type": "markdown",
   "id": "209773de",
   "metadata": {},
   "source": [
    "# Cost Terminology"
   ]
  },
  {
   "cell_type": "markdown",
   "id": "933065c2",
   "metadata": {
    "lang": "en"
   },
   "source": [
    "## Cost Accumulation/Cost Pools\n",
    "\n",
    "It is the accumulation of the costs of the company in an organized way."
   ]
  },
  {
   "cell_type": "markdown",
   "id": "99a710c6",
   "metadata": {
    "lang": "en"
   },
   "source": [
    "## Cost Assignment\n",
    "\n",
    "It is the allocation of costs to different objects."
   ]
  },
  {
   "cell_type": "markdown",
   "id": "4d1a672b",
   "metadata": {
    "lang": "en"
   },
   "source": [
    "## Direct Costs\n",
    "\n",
    "Direct costs are directly linked to the production of a product, these can be directed towards an object or product effectively."
   ]
  },
  {
   "cell_type": "markdown",
   "id": "d1a02f22",
   "metadata": {
    "lang": "en"
   },
   "source": [
    "### Direct Material costs (DM)\n",
    "\n",
    "They are all materials directly related to the production process."
   ]
  },
  {
   "cell_type": "markdown",
   "id": "e7449dc7",
   "metadata": {
    "lang": "en"
   },
   "source": [
    "### Direct Manufacturing Labor costs (DML)\n",
    "\n",
    "They are the costs of labor used in the direct manufacture of a good or service during the production process."
   ]
  },
  {
   "cell_type": "markdown",
   "id": "df9462e5",
   "metadata": {
    "lang": "en"
   },
   "source": [
    "### Direct Labor\n",
    "\n",
    "These are direct labor costs, in other words the labor necessary to produce a good or service directly but that does not enter into the manufacturing process, such as unit commissions."
   ]
  },
  {
   "cell_type": "markdown",
   "id": "aafceadd",
   "metadata": {
    "lang": "en"
   },
   "source": [
    "## Indirect Costs\n",
    "\n",
    "Indirect costs cannot be directly attributable to the production of goods and services."
   ]
  },
  {
   "cell_type": "markdown",
   "id": "ed22c7ac",
   "metadata": {
    "lang": "en"
   },
   "source": [
    "### Allocation\n",
    "\n",
    "This term refers to a cost that can be distributed among several goods or services produced."
   ]
  },
  {
   "cell_type": "markdown",
   "id": "029209ce",
   "metadata": {
    "lang": "en"
   },
   "source": [
    "### Indirect Manufacturing Costs/Manufacturing Overhead(MOH)\n",
    "\n",
    "They are labor costs but not direct in the production process of a good or service, such as supervision costs, which are linked not to one product but to several."
   ]
  },
  {
   "cell_type": "markdown",
   "id": "68c86b45",
   "metadata": {},
   "source": [
    "## Factors Affecting Direct/Indirect Cost Classifications\n",
    "\n",
    "| Selection of the differentiated cost object | The materiality or importance of the cost in question | Information Collection Technology Available | Operations Design |\n",
    "| :- | :- | :- | :- |\n",
    "|The classification of a cost group as direct or indirect will change depending on the cost object.|The lower the cost, the less likely it is to be economically feasible to trace that cost back to a particular cost object.|Cost systems Integrated cost information systems access cost data electronically through barcodes and radio frequency identification.|Integrated cost information systems access cost data electronically through barcodes and radio frequency identification.|\n"
   ]
  },
  {
   "cell_type": "markdown",
   "id": "d676b00b",
   "metadata": {
    "lang": "en"
   },
   "source": [
    "## Upstream Costs\n",
    "\n",
    "These are costs incurred before production."
   ]
  },
  {
   "cell_type": "markdown",
   "id": "78698066",
   "metadata": {
    "lang": "en"
   },
   "source": [
    "## Downstream costs\n",
    "These are the costs incurred after production."
   ]
  },
  {
   "cell_type": "markdown",
   "id": "7207a9b4",
   "metadata": {
    "lang": "en"
   },
   "source": [
    "## Average Cost/Unit Cost\n",
    "\n",
    "This is the average cost or the median of the costs."
   ]
  },
  {
   "cell_type": "markdown",
   "id": "7ab4384c",
   "metadata": {
    "lang": "en"
   },
   "source": [
    "## Unit Cost\n",
    "\n",
    "Unit cost is the cost of each singularly produced good or service."
   ]
  },
  {
   "cell_type": "markdown",
   "id": "40318202",
   "metadata": {},
   "source": [
    "# Prime and Conversion Costs"
   ]
  },
  {
   "cell_type": "markdown",
   "id": "d86d6487",
   "metadata": {
    "lang": "en"
   },
   "source": [
    "## Prime Cost\n",
    "\n",
    "These are the direct manufacturing costs (DM, DML). Algebraically we have:\n",
    "\n",
    "$$ \\text{Prime Cost} = DML + DM $$"
   ]
  },
  {
   "cell_type": "markdown",
   "id": "f2346529",
   "metadata": {
    "lang": "en"
   },
   "source": [
    "## Conversion Cost\n",
    "\n",
    "Conversion costs are all manufacturing costs other than direct material costs required to convert direct materials into finished goods (DML, MOH).\n",
    "\n",
    "$$\\text{Conversion Cost} = DML + MOH $$"
   ]
  },
  {
   "cell_type": "markdown",
   "id": "f8c163d6",
   "metadata": {
    "lang": "en"
   },
   "source": [
    "# Fixed and Variable Costs\n",
    "\n",
    "It is possible to imagine a company with the following data."
   ]
  },
  {
   "cell_type": "code",
   "execution_count": 2,
   "id": "06d7379f",
   "metadata": {
    "tags": [
     "remove-input"
    ]
   },
   "outputs": [],
   "source": [
    "df = pd.DataFrame({'Variable Unit Cost': [10, 10, 10, 10, 10, 10],\n",
    "                  'Quantity': [1, 10, 20, 30, 40, 50],\n",
    "                  'Fixed Cost': [1000, 1000, 1000, 1000, 1000, 1000],\n",
    "                  'Variable Cost': [0, 0, 0, 0, 0, 0]})"
   ]
  },
  {
   "cell_type": "code",
   "execution_count": 3,
   "id": "7285541b",
   "metadata": {
    "tags": [
     "remove-input"
    ]
   },
   "outputs": [
    {
     "data": {
      "application/vnd.jupyter.widget-view+json": {
       "model_id": "0cb61a30485c4713bd4216979ca769c7",
       "version_major": 2,
       "version_minor": 0
      },
      "text/plain": [
       "Sheet(cells=(Cell(column_end=0, column_start=0, numeric_format='0[.]0', row_end=5, row_start=0, squeeze_row=Fa…"
      ]
     },
     "execution_count": 3,
     "metadata": {},
     "output_type": "execute_result"
    }
   ],
   "source": [
    "sheet = ipysheet.from_dataframe(df)\n",
    "\n",
    "sheet"
   ]
  },
  {
   "cell_type": "markdown",
   "id": "b577ec1b",
   "metadata": {
    "lang": "en"
   },
   "source": [
    "## Variable costs (VC)\n",
    "\n",
    "Variable costs are fixed based on each good or service produced, but it becomes variable in addition, since each new good or service produced has a cost which adds to the final result. So this is the sum of all costs per unit.\n",
    "\n",
    "$$\\sum{\\text{Unit Cost}}$$"
   ]
  },
  {
   "cell_type": "code",
   "execution_count": 4,
   "id": "e02339f1",
   "metadata": {
    "tags": [
     "remove-input"
    ]
   },
   "outputs": [
    {
     "data": {
      "application/vnd.jupyter.widget-view+json": {
       "model_id": "628b0fcf5c384aac85e6b7e15d7e15ef",
       "version_major": 2,
       "version_minor": 0
      },
      "text/plain": [
       "Sheet(cells=(Cell(column_end=0, column_start=0, row_end=0, row_start=0, type='text', value='Variable Unit Cost…"
      ]
     },
     "execution_count": 4,
     "metadata": {},
     "output_type": "execute_result"
    }
   ],
   "source": [
    "sheet = ipysheet.sheet(rows=7, columns=3)\n",
    "\n",
    "ipysheet.cell(row= 0, column= 0, value= 'Variable Unit Cost')\n",
    "unit_cost = ipysheet.column(0, df['Variable Unit Cost'].to_list(), row_start=1)\n",
    "\n",
    "ipysheet.cell(row= 0, column= 1, value= 'Quantity')\n",
    "quantity = ipysheet.column(1, df['Quantity'].to_list(), row_start=1)\n",
    "\n",
    "df['Variable Cost'] = df['Variable Unit Cost'] * df['Quantity']\n",
    "\n",
    "ipysheet.cell(row= 0, column= 2, value= 'Variable Cost', background_color= 'LightGreen')\n",
    "var_cost = ipysheet.column(2, df['Variable Cost'].to_list(), row_start=1, background_color='#FFCCCB')\n",
    "\n",
    "def update(change):\n",
    "    \n",
    "    var_cost.value = np.array(quantity.value) * np.array(unit_cost.value)\n",
    "\n",
    "unit_cost.observe(update, 'value')\n",
    "quantity.observe(update, 'value')\n",
    "    \n",
    "sheet"
   ]
  },
  {
   "cell_type": "code",
   "execution_count": 5,
   "id": "b09a6fea",
   "metadata": {
    "tags": [
     "remove-input"
    ]
   },
   "outputs": [
    {
     "data": {
      "image/png": "[encoded data removed]",
      "text/plain": [
       "<Figure size 1200x400 with 1 Axes>"
      ]
     },
     "metadata": {},
     "output_type": "display_data"
    }
   ],
   "source": [
    "ax = df[['Variable Cost']].plot(title= 'Variable Cost evolution', marker= '.', color= 'Red', figsize= (12, 4))\n",
    "\n",
    "ax.set_xlabel('Period')\n",
    "ax.set_ylabel('Cost')\n",
    "\n",
    "plt.show()"
   ]
  },
  {
   "cell_type": "markdown",
   "id": "bc80d4df",
   "metadata": {
    "lang": "en"
   },
   "source": [
    "So we can see that it has a linear growth."
   ]
  },
  {
   "cell_type": "markdown",
   "id": "49b3948c",
   "metadata": {
    "lang": "en"
   },
   "source": [
    "## Fixed costs (FC)\n",
    "\n",
    "Fixed costs are costs that do not vary over time, so that regardless of the quantity produced they remain the same, such as renting a product."
   ]
  },
  {
   "cell_type": "code",
   "execution_count": 6,
   "id": "e7c3ec05",
   "metadata": {
    "tags": [
     "remove-input"
    ]
   },
   "outputs": [
    {
     "data": {
      "application/vnd.jupyter.widget-view+json": {
       "model_id": "fe35ba26f5fd4cc38914195950d2bda7",
       "version_major": 2,
       "version_minor": 0
      },
      "text/plain": [
       "Sheet(cells=(Cell(column_end=0, column_start=0, numeric_format='0[.]0', row_end=5, row_start=0, squeeze_row=Fa…"
      ]
     },
     "execution_count": 6,
     "metadata": {},
     "output_type": "execute_result"
    }
   ],
   "source": [
    "sheet = ipysheet.from_dataframe(df[['Fixed Cost']])\n",
    "\n",
    "sheet"
   ]
  },
  {
   "cell_type": "code",
   "execution_count": 7,
   "id": "2c5235c4",
   "metadata": {
    "tags": [
     "remove-input"
    ]
   },
   "outputs": [
    {
     "data": {
      "image/png": "[encoded data removed]",
      "text/plain": [
       "<Figure size 1200x400 with 1 Axes>"
      ]
     },
     "metadata": {},
     "output_type": "display_data"
    }
   ],
   "source": [
    "ax= df[['Fixed Cost']].plot(title= 'Fixed Cost evolution', figsize= (12, 4), color= 'Red', marker='.')\n",
    "\n",
    "ax.set_xlabel('Period')\n",
    "ax.set_ylabel('Cost')\n",
    "\n",
    "plt.show()"
   ]
  },
  {
   "cell_type": "markdown",
   "id": "d167da99",
   "metadata": {
    "lang": "en"
   },
   "source": [
    "It is possible to observe how the fixed cost has a straight line which does not change over time."
   ]
  },
  {
   "cell_type": "markdown",
   "id": "a7e3ab1c",
   "metadata": {
    "lang": "en"
   },
   "source": [
    "## Fixed Cost Per Unit\n",
    "\n",
    "There is a relationship between the fixed cost and the cost per unit, this relationship indicates that the higher the production, the lower the fixed cost, and this is because if there is a fixed cost, the higher the production, the greater the benefit and it is possible to divide the cost between the number of units produced. For example, assuming a rent of 1000 dollars a month, if nothing is produced, the cost is the same, but if 1000 units are produced, the benefit obtained from the rent is one dollar of rent for one dollar of unit.\n",
    "\n",
    "$$ \\text{Fixed Cost Per Unit} =  \\frac{\\text{Fixed Cost}}{\\text{Quantity}}$$"
   ]
  },
  {
   "cell_type": "code",
   "execution_count": 8,
   "id": "8c671d90",
   "metadata": {
    "tags": [
     "remove-input"
    ]
   },
   "outputs": [
    {
     "data": {
      "application/vnd.jupyter.widget-view+json": {
       "model_id": "009119e177ba483186b6d079ae8205e3",
       "version_major": 2,
       "version_minor": 0
      },
      "text/plain": [
       "Sheet(cells=(Cell(column_end=0, column_start=0, numeric_format='0[.]0', row_end=5, row_start=0, squeeze_row=Fa…"
      ]
     },
     "execution_count": 8,
     "metadata": {},
     "output_type": "execute_result"
    }
   ],
   "source": [
    "sheet = ipysheet.from_dataframe(df[['Quantity', 'Fixed Cost']])\n",
    "sheet"
   ]
  },
  {
   "cell_type": "code",
   "execution_count": 9,
   "id": "e3de2db7",
   "metadata": {
    "tags": [
     "remove-input"
    ]
   },
   "outputs": [
    {
     "data": {
      "application/vnd.jupyter.widget-view+json": {
       "model_id": "c83023e167514413bf49c0ef649c314d",
       "version_major": 2,
       "version_minor": 0
      },
      "text/plain": [
       "Sheet(cells=(Cell(column_end=1, column_start=1, row_end=0, row_start=0, type='text', value='Quantity'), Cell(c…"
      ]
     },
     "execution_count": 9,
     "metadata": {},
     "output_type": "execute_result"
    }
   ],
   "source": [
    "sheet = ipysheet.sheet(rows=7, columns=3)\n",
    "\n",
    "ipysheet.cell(row= 0, column= 1, value= 'Quantity')\n",
    "quantity = ipysheet.column(1, df['Quantity'].to_list(), row_start=1)\n",
    "\n",
    "ipysheet.cell(row= 0, column= 0, value= 'Fixed Cost')\n",
    "fixed_cost = ipysheet.column(0, df['Fixed Cost'].to_list(), row_start=1)\n",
    "\n",
    "df['Fixed Cost Per Unit'] = df['Fixed Cost'] / df['Quantity']\n",
    "\n",
    "ipysheet.cell(row= 0, column= 2, value= 'Fixed Cost Per Unit', background_color= 'LightGreen')\n",
    "var_cost = ipysheet.column(2, df['Fixed Cost Per Unit'].to_list(), row_start=1, background_color='#FFCCCB')\n",
    "\n",
    "def update(change):\n",
    "    \n",
    "    var_cost.value =  np.array(fixed_cost.value) / np.array(quantity.value)\n",
    "\n",
    "unit_cost.observe(update, 'value')\n",
    "quantity.observe(update, 'value')\n",
    "    \n",
    "sheet"
   ]
  },
  {
   "cell_type": "code",
   "execution_count": 10,
   "id": "821cea57",
   "metadata": {
    "tags": [
     "remove-input"
    ]
   },
   "outputs": [
    {
     "data": {
      "image/png": "[encoded data removed]",
      "text/plain": [
       "<Figure size 1200x400 with 1 Axes>"
      ]
     },
     "metadata": {},
     "output_type": "display_data"
    }
   ],
   "source": [
    "ax= df[['Fixed Cost Per Unit']].plot(title= 'Fixed Cost Per Unit evolution', figsize= (12, 4), marker= '.', color= 'Red')\n",
    "\n",
    "ax.set_xlabel('Period')\n",
    "ax.set_ylabel('Cost')\n",
    "\n",
    "plt.show()"
   ]
  },
  {
   "cell_type": "markdown",
   "id": "9da9e810",
   "metadata": {
    "lang": "en"
   },
   "source": [
    "It is possible to observe an exponential decay with a concave line."
   ]
  },
  {
   "cell_type": "markdown",
   "id": "5d4b55eb",
   "metadata": {
    "lang": "en"
   },
   "source": [
    "## Total Cost\n",
    "\n",
    "Total cost is the sum of variable and fixed costs, as follows:\n",
    "\n",
    "$$ \\text{Total Cost} = VC + FC $$\n",
    "\n",
    "Where:\n",
    "\n",
    "- VC(Variable Cost)\n",
    "\n",
    "- FC(Fixed Cost)"
   ]
  },
  {
   "cell_type": "code",
   "execution_count": 11,
   "id": "2ce913e7",
   "metadata": {
    "tags": [
     "remove-input"
    ]
   },
   "outputs": [],
   "source": [
    "df['Total Cost']= df['Fixed Cost'] + df['Variable Cost']"
   ]
  },
  {
   "cell_type": "code",
   "execution_count": 12,
   "id": "9b3976fb",
   "metadata": {
    "tags": [
     "remove-input"
    ]
   },
   "outputs": [
    {
     "data": {
      "text/html": [
       "<div>\n",
       "<style scoped>\n",
       "    .dataframe tbody tr th:only-of-type {\n",
       "        vertical-align: middle;\n",
       "    }\n",
       "\n",
       "    .dataframe tbody tr th {\n",
       "        vertical-align: top;\n",
       "    }\n",
       "\n",
       "    .dataframe thead th {\n",
       "        text-align: right;\n",
       "    }\n",
       "</style>\n",
       "<table border=\"1\" class=\"dataframe\">\n",
       "  <thead>\n",
       "    <tr style=\"text-align: right;\">\n",
       "      <th></th>\n",
       "      <th>Fixed Cost</th>\n",
       "      <th>Variable Cost</th>\n",
       "      <th>Total Cost</th>\n",
       "    </tr>\n",
       "  </thead>\n",
       "  <tbody>\n",
       "    <tr>\n",
       "      <th>0</th>\n",
       "      <td>1000</td>\n",
       "      <td>10</td>\n",
       "      <td>1010</td>\n",
       "    </tr>\n",
       "    <tr>\n",
       "      <th>1</th>\n",
       "      <td>1000</td>\n",
       "      <td>100</td>\n",
       "      <td>1100</td>\n",
       "    </tr>\n",
       "    <tr>\n",
       "      <th>2</th>\n",
       "      <td>1000</td>\n",
       "      <td>200</td>\n",
       "      <td>1200</td>\n",
       "    </tr>\n",
       "    <tr>\n",
       "      <th>3</th>\n",
       "      <td>1000</td>\n",
       "      <td>300</td>\n",
       "      <td>1300</td>\n",
       "    </tr>\n",
       "    <tr>\n",
       "      <th>4</th>\n",
       "      <td>1000</td>\n",
       "      <td>400</td>\n",
       "      <td>1400</td>\n",
       "    </tr>\n",
       "    <tr>\n",
       "      <th>5</th>\n",
       "      <td>1000</td>\n",
       "      <td>500</td>\n",
       "      <td>1500</td>\n",
       "    </tr>\n",
       "  </tbody>\n",
       "</table>\n",
       "</div>"
      ],
      "text/plain": [
       "   Fixed Cost  Variable Cost  Total Cost\n",
       "0        1000             10        1010\n",
       "1        1000            100        1100\n",
       "2        1000            200        1200\n",
       "3        1000            300        1300\n",
       "4        1000            400        1400\n",
       "5        1000            500        1500"
      ]
     },
     "execution_count": 12,
     "metadata": {},
     "output_type": "execute_result"
    }
   ],
   "source": [
    "df[['Fixed Cost', 'Variable Cost', 'Total Cost']]"
   ]
  },
  {
   "cell_type": "markdown",
   "id": "7ced43d4",
   "metadata": {},
   "source": [
    "## Total Cost to get Unit Price\n",
    "\n",
    "Hasta ahora hemos asumido que la empresa tiene un precio unitario ya establecido pero por lo general no se hace asi ya que para obtener el Costo Unitario se necesita el costo total, es asi como se emplea el Costo Total para obtener el Costo Unitario. De modo que:\n",
    "\n",
    "$$ \\text{Total Cost} = \\frac{\\text{Total Cost}}{Quantity} $$"
   ]
  },
  {
   "cell_type": "code",
   "execution_count": 13,
   "id": "c0653e3c",
   "metadata": {
    "tags": [
     "remove-input"
    ]
   },
   "outputs": [
    {
     "data": {
      "text/html": [
       "<div>\n",
       "<style scoped>\n",
       "    .dataframe tbody tr th:only-of-type {\n",
       "        vertical-align: middle;\n",
       "    }\n",
       "\n",
       "    .dataframe tbody tr th {\n",
       "        vertical-align: top;\n",
       "    }\n",
       "\n",
       "    .dataframe thead th {\n",
       "        text-align: right;\n",
       "    }\n",
       "</style>\n",
       "<table border=\"1\" class=\"dataframe\">\n",
       "  <thead>\n",
       "    <tr style=\"text-align: right;\">\n",
       "      <th></th>\n",
       "      <th>Variable Unit Cost</th>\n",
       "      <th>Quantity</th>\n",
       "      <th>Fixed Cost</th>\n",
       "      <th>Variable Cost</th>\n",
       "      <th>Fixed Cost Per Unit</th>\n",
       "      <th>Total Cost</th>\n",
       "    </tr>\n",
       "  </thead>\n",
       "  <tbody>\n",
       "    <tr>\n",
       "      <th>0</th>\n",
       "      <td>10</td>\n",
       "      <td>1</td>\n",
       "      <td>1000</td>\n",
       "      <td>10</td>\n",
       "      <td>1000.000000</td>\n",
       "      <td>1010</td>\n",
       "    </tr>\n",
       "    <tr>\n",
       "      <th>1</th>\n",
       "      <td>10</td>\n",
       "      <td>10</td>\n",
       "      <td>1000</td>\n",
       "      <td>100</td>\n",
       "      <td>100.000000</td>\n",
       "      <td>1100</td>\n",
       "    </tr>\n",
       "    <tr>\n",
       "      <th>2</th>\n",
       "      <td>10</td>\n",
       "      <td>20</td>\n",
       "      <td>1000</td>\n",
       "      <td>200</td>\n",
       "      <td>50.000000</td>\n",
       "      <td>1200</td>\n",
       "    </tr>\n",
       "    <tr>\n",
       "      <th>3</th>\n",
       "      <td>10</td>\n",
       "      <td>30</td>\n",
       "      <td>1000</td>\n",
       "      <td>300</td>\n",
       "      <td>33.333333</td>\n",
       "      <td>1300</td>\n",
       "    </tr>\n",
       "    <tr>\n",
       "      <th>4</th>\n",
       "      <td>10</td>\n",
       "      <td>40</td>\n",
       "      <td>1000</td>\n",
       "      <td>400</td>\n",
       "      <td>25.000000</td>\n",
       "      <td>1400</td>\n",
       "    </tr>\n",
       "    <tr>\n",
       "      <th>5</th>\n",
       "      <td>10</td>\n",
       "      <td>50</td>\n",
       "      <td>1000</td>\n",
       "      <td>500</td>\n",
       "      <td>20.000000</td>\n",
       "      <td>1500</td>\n",
       "    </tr>\n",
       "  </tbody>\n",
       "</table>\n",
       "</div>"
      ],
      "text/plain": [
       "   Variable Unit Cost  Quantity  Fixed Cost  Variable Cost   \n",
       "0                  10         1        1000             10  \\\n",
       "1                  10        10        1000            100   \n",
       "2                  10        20        1000            200   \n",
       "3                  10        30        1000            300   \n",
       "4                  10        40        1000            400   \n",
       "5                  10        50        1000            500   \n",
       "\n",
       "   Fixed Cost Per Unit  Total Cost  \n",
       "0          1000.000000        1010  \n",
       "1           100.000000        1100  \n",
       "2            50.000000        1200  \n",
       "3            33.333333        1300  \n",
       "4            25.000000        1400  \n",
       "5            20.000000        1500  "
      ]
     },
     "execution_count": 13,
     "metadata": {},
     "output_type": "execute_result"
    }
   ],
   "source": [
    "df"
   ]
  },
  {
   "cell_type": "code",
   "execution_count": 14,
   "id": "786dd033",
   "metadata": {
    "tags": [
     "remove-input"
    ]
   },
   "outputs": [],
   "source": [
    "df['Total Unit Cost'] = df['Total Cost'] / df['Quantity']"
   ]
  },
  {
   "cell_type": "code",
   "execution_count": 15,
   "id": "4ba92925",
   "metadata": {
    "tags": [
     "remove-input"
    ]
   },
   "outputs": [
    {
     "data": {
      "text/html": [
       "<div>\n",
       "<style scoped>\n",
       "    .dataframe tbody tr th:only-of-type {\n",
       "        vertical-align: middle;\n",
       "    }\n",
       "\n",
       "    .dataframe tbody tr th {\n",
       "        vertical-align: top;\n",
       "    }\n",
       "\n",
       "    .dataframe thead th {\n",
       "        text-align: right;\n",
       "    }\n",
       "</style>\n",
       "<table border=\"1\" class=\"dataframe\">\n",
       "  <thead>\n",
       "    <tr style=\"text-align: right;\">\n",
       "      <th></th>\n",
       "      <th>Variable Unit Cost</th>\n",
       "      <th>Quantity</th>\n",
       "      <th>Fixed Cost</th>\n",
       "      <th>Variable Cost</th>\n",
       "      <th>Fixed Cost Per Unit</th>\n",
       "      <th>Total Cost</th>\n",
       "      <th>Total Unit Cost</th>\n",
       "    </tr>\n",
       "  </thead>\n",
       "  <tbody>\n",
       "    <tr>\n",
       "      <th>0</th>\n",
       "      <td>10</td>\n",
       "      <td>1</td>\n",
       "      <td>1000</td>\n",
       "      <td>10</td>\n",
       "      <td>1000.000000</td>\n",
       "      <td>1010</td>\n",
       "      <td>1010.000000</td>\n",
       "    </tr>\n",
       "    <tr>\n",
       "      <th>1</th>\n",
       "      <td>10</td>\n",
       "      <td>10</td>\n",
       "      <td>1000</td>\n",
       "      <td>100</td>\n",
       "      <td>100.000000</td>\n",
       "      <td>1100</td>\n",
       "      <td>110.000000</td>\n",
       "    </tr>\n",
       "    <tr>\n",
       "      <th>2</th>\n",
       "      <td>10</td>\n",
       "      <td>20</td>\n",
       "      <td>1000</td>\n",
       "      <td>200</td>\n",
       "      <td>50.000000</td>\n",
       "      <td>1200</td>\n",
       "      <td>60.000000</td>\n",
       "    </tr>\n",
       "    <tr>\n",
       "      <th>3</th>\n",
       "      <td>10</td>\n",
       "      <td>30</td>\n",
       "      <td>1000</td>\n",
       "      <td>300</td>\n",
       "      <td>33.333333</td>\n",
       "      <td>1300</td>\n",
       "      <td>43.333333</td>\n",
       "    </tr>\n",
       "    <tr>\n",
       "      <th>4</th>\n",
       "      <td>10</td>\n",
       "      <td>40</td>\n",
       "      <td>1000</td>\n",
       "      <td>400</td>\n",
       "      <td>25.000000</td>\n",
       "      <td>1400</td>\n",
       "      <td>35.000000</td>\n",
       "    </tr>\n",
       "    <tr>\n",
       "      <th>5</th>\n",
       "      <td>10</td>\n",
       "      <td>50</td>\n",
       "      <td>1000</td>\n",
       "      <td>500</td>\n",
       "      <td>20.000000</td>\n",
       "      <td>1500</td>\n",
       "      <td>30.000000</td>\n",
       "    </tr>\n",
       "  </tbody>\n",
       "</table>\n",
       "</div>"
      ],
      "text/plain": [
       "   Variable Unit Cost  Quantity  Fixed Cost  Variable Cost   \n",
       "0                  10         1        1000             10  \\\n",
       "1                  10        10        1000            100   \n",
       "2                  10        20        1000            200   \n",
       "3                  10        30        1000            300   \n",
       "4                  10        40        1000            400   \n",
       "5                  10        50        1000            500   \n",
       "\n",
       "   Fixed Cost Per Unit  Total Cost  Total Unit Cost  \n",
       "0          1000.000000        1010      1010.000000  \n",
       "1           100.000000        1100       110.000000  \n",
       "2            50.000000        1200        60.000000  \n",
       "3            33.333333        1300        43.333333  \n",
       "4            25.000000        1400        35.000000  \n",
       "5            20.000000        1500        30.000000  "
      ]
     },
     "execution_count": 15,
     "metadata": {},
     "output_type": "execute_result"
    }
   ],
   "source": [
    "df"
   ]
  },
  {
   "cell_type": "code",
   "execution_count": 16,
   "id": "abb77c20",
   "metadata": {
    "tags": [
     "remove-input"
    ]
   },
   "outputs": [
    {
     "data": {
      "image/png": "[encoded data removed]",
      "text/plain": [
       "<Figure size 1200x400 with 1 Axes>"
      ]
     },
     "metadata": {},
     "output_type": "display_data"
    }
   ],
   "source": [
    "ax= df[['Total Unit Cost']].plot(title= 'Total Unit Cost', figsize= (12, 4), marker= '.', color= 'red')\n",
    "\n",
    "ax.set_xlabel('Period')\n",
    "ax.set_ylabel('Cost')\n",
    "\n",
    "plt.show()"
   ]
  },
  {
   "cell_type": "markdown",
   "id": "d032005a",
   "metadata": {
    "lang": "en"
   },
   "source": [
    "# Complete or correct!!\n",
    "\n",
    "Note that for the previous examples the value of 10 was used but it is not really the correct form."
   ]
  },
  {
   "cell_type": "markdown",
   "id": "123dd093",
   "metadata": {
    "lang": "en"
   },
   "source": [
    "# Period Costs\n",
    "\n",
    "Period costs are all costs on the income statement other than cost of goods sold, these are not manufacturing costs, operating expenses, or non-inventoriable costs. Because there is insufficient evidence to conclude that they will generate a benefit in the future, they are not considered an asset. Under GAAP, costs for the period are recorded as expenses when incurred."
   ]
  },
  {
   "cell_type": "markdown",
   "id": "d2820874",
   "metadata": {
    "lang": "en"
   },
   "source": [
    "# Inventoriable Costs\n",
    "\n",
    "Inventoriable costs are all the costs of a product that are considered as assets in the statement of comprehensive income. Cost of goods sold includes all three manufacturing costs (direct materials, direct labor, and MOH) incurred to produce the goods being sold. Inventoriable costs arise only for companies in the manufacturing sector."
   ]
  },
  {
   "cell_type": "markdown",
   "id": "d2109936",
   "metadata": {
    "lang": "en"
   },
   "source": [
    "# Need for High Quality Information\n",
    "\n",
    "In order to carry out all accounting processes successfully, quality information is necessary, which is used to:\n",
    "\n",
    "- Strategic decisions that require prior information, analysis and decision making.\n",
    "\n",
    "- Short-term operational decisions required when exceptions arise.\n",
    "\n",
    "This within activities that convert resources into a product or service ready for sale."
   ]
  },
  {
   "cell_type": "markdown",
   "id": "ec508f78",
   "metadata": {
    "lang": "en"
   },
   "source": [
    "# Strategies\n",
    "\n",
    "It specifies how an organization matches its own capabilities with market opportunities. For this we have two strategies:\n",
    "\n",
    "- Cost leadership: quality products or services at low prices (reduced prices)\n",
    "\n",
    "- Value leadership: higher value unique products or services (Value Added)"
   ]
  },
  {
   "cell_type": "markdown",
   "id": "01f7291a",
   "metadata": {
    "lang": "en"
   },
   "source": [
    "# Key Success Facts\n",
    "\n",
    "Customers expect ever-increasing performance of goods and services throughout the value chain, so this is where the key success factors appear, which are key activities for the successful performance of business activities. These factors are:\n",
    "\n",
    "- Cost and efficiency (Lower costs, higher efficiency).\n",
    "\n",
    "- Quality (Higher quality through Total Quality Management).\n",
    "\n",
    "- Time (Better punctuality (development of new products; Customer response)).\n",
    "\n",
    "- Innovation (Innovation in products and services)."
   ]
  },
  {
   "cell_type": "markdown",
   "id": "ffddb33c",
   "metadata": {
    "lang": "en"
   },
   "source": [
    "# Decision Making, Planning, and Control: The Five-Step Decision-Making Process\n",
    "\n",
    "Decision making is one of the most important points of accounting, since accounting is a point of support for making these decisions, here we have five steps, which are:\n",
    "\n",
    "1. Identify the problem and the uncertainties.\n",
    "\n",
    "2. Get information.\n",
    "\n",
    "3. Make predictions about the future.\n",
    "\n",
    "4. Decide on one of the available alternatives.\n",
    "\n",
    "5. Implement the decision, evaluate performance and learn.\n",
    "\n",
    "It is possible to break these steps into two groups, which are:\n",
    "\n",
    "- Planning: This is an intentional analysis of the information to select and classify the objectives, this covers the first 4 steps.\n",
    "\n",
    "- Control: measure and evaluate performance and take corrective action, this covers step 5."
   ]
  },
  {
   "cell_type": "markdown",
   "id": "49994880",
   "metadata": {},
   "source": [
    "## Example of performance report evaluation "
   ]
  },
  {
   "cell_type": "code",
   "execution_count": 18,
   "id": "85596d29",
   "metadata": {
    "scrolled": true,
    "tags": [
     "remove-input"
    ]
   },
   "outputs": [
    {
     "data": {
      "application/vnd.jupyter.widget-view+json": {
       "model_id": "86d489791c764905ba8c0300888ff34b",
       "version_major": 2,
       "version_minor": 0
      },
      "text/plain": [
       "Sheet(cells=(Cell(column_start=0, row_end=0, row_start=0, squeeze_column=False, squeeze_row=False, style={'bac…"
      ]
     },
     "execution_count": 18,
     "metadata": {},
     "output_type": "execute_result"
    }
   ],
   "source": [
    "sheet = ipysheet.sheet(rows=4)\n",
    "\n",
    "# Table\n",
    "\n",
    "titles = ipysheet.cell_range([\n",
    "     ['Concept',\n",
    "      'actual result',\n",
    "      'Budgeted amount',\n",
    "      'Difference between actual result and budget',\n",
    "      'Percentage difference'],\n",
    "], background_color= 'LightGreen')\n",
    "\n",
    "# Data\n",
    "\n",
    "p = ipysheet.cell(row= 1, column= 0, value= 'Old ad pages')\n",
    "pag_1 = ipysheet.cell(row= 1, column= 1, value= 760)\n",
    "pag_2 = ipysheet.cell(row= 1, column= 2, value= 800)\n",
    "\n",
    "av = ipysheet.cell(row= 2, column= 0, value= 'Mean ratio per sheet')\n",
    "av_1 = ipysheet.cell(row= 2, column= 1, value= 5080)\n",
    "av_2 = ipysheet.cell(row= 2, column= 2, value= 5200)\n",
    "\n",
    "inc = ipysheet.cell(row= 3, column= 0, value= 'Ad revenue')\n",
    "inc_1 = ipysheet.cell(row= 3, column= 1, value= 3860800)\n",
    "inc_2 = ipysheet.cell(row= 3, column= 2, value= 4160000)\n",
    "\n",
    "# Cells-diff\n",
    "\n",
    "pag_diff = ipysheet.cell(row=1, column=3, value=0, background_color= '#FFCCCB', numeric_format='.2f')\n",
    "av_diff = ipysheet.cell(row=2, column=3, value=0, background_color= '#FFCCCB', numeric_format='.2f')\n",
    "in_diff = ipysheet.cell(row=3, column=3, value=0, background_color= '#FFCCCB', numeric_format='.5f')\n",
    "\n",
    "# Cells-perc\n",
    "\n",
    "pag_perc = ipysheet.cell(row=1, column=4, value=0, background_color= '#FFCCCB', numeric_format='.2f')\n",
    "av_perc = ipysheet.cell(row=2, column=4, value=0, background_color= '#FFCCCB', numeric_format='.2f')\n",
    "in_perc = ipysheet.cell(row=3, column=4, value=0, background_color= '#FFCCCB', numeric_format='.2f')\n",
    "\n",
    "# Funcs\n",
    "\n",
    "## Differences\n",
    "\n",
    "@ipysheet.calculation(inputs=[pag_1, pag_2], output= pag_diff)\n",
    "def pag_diff(a, b):\n",
    "    \n",
    "    return a - b\n",
    "\n",
    "@ipysheet.calculation(inputs=[av_1, av_2], output= av_diff)\n",
    "def pag_diff(a, b):\n",
    "    \n",
    "    return a - b\n",
    "\n",
    "@ipysheet.calculation(inputs=[inc_1, inc_2], output= in_diff)\n",
    "def pag_diff(a, b):\n",
    "    \n",
    "    return a - b\n",
    "\n",
    "## Percentual differences\n",
    "\n",
    "@ipysheet.calculation(inputs=[pag_1, pag_2], output= pag_perc)\n",
    "def pag_perc(a, b):\n",
    "    \n",
    "    diff = a - b\n",
    "    \n",
    "    return (diff / b) * 100\n",
    "\n",
    "@ipysheet.calculation(inputs=[av_1, av_2], output= av_perc)\n",
    "def av_perc(a, b):\n",
    "    \n",
    "    diff = a - b\n",
    "    \n",
    "    return (diff / b) * 100\n",
    "\n",
    "@ipysheet.calculation(inputs=[inc_1, inc_2], output= in_perc)\n",
    "def av_perc(a, b):\n",
    "    \n",
    "    diff = a - b\n",
    "    \n",
    "    return (diff / b) * 100\n",
    "\n",
    "sheet"
   ]
  },
  {
   "cell_type": "markdown",
   "id": "bd5d71fd",
   "metadata": {
    "lang": "en"
   },
   "source": [
    "Here we can see some metrics to evaluate the performance of certain operations of the company, this is just an example since various metrics can be used to evaluate said performance. The metric used uses the following formulas:\n",
    "\n",
    "- Difference between actual and proposed result:\n",
    "\n",
    "$$ Difference = Budget- Real $$\n",
    "\n",
    "- Percentage difference:\n",
    "\n",
    "$$ \\text{Percentual diff} =\\frac{Difference}{Budget} $$"
   ]
  },
  {
   "cell_type": "markdown",
   "id": "4225ed6e",
   "metadata": {
    "lang": "en"
   },
   "source": [
    "# Corporate Social Responsibility (CSR)\n",
    "\n",
    "Corporate social responsibility involves a voluntary integration of certain aspects in favor of society to the activities of the company, these aspects are:\n",
    "\n",
    "- Corporate Social Responsibility\n",
    "\n",
    "    - Voluntary integration of social and environmental concerns into business decisions.\n",
    "    - Triple bottom line: profits, people, planet.\n",
    "    \n",
    "- Sustainability Accounting\n",
    "\n",
    "    - Information on financial and non-financial activities and their impact on society, the environment and the financial aspects of an organization's performance.\n",
    "\n",
    "- Alternative reports\n",
    "\n",
    "    - Based on specific goals and strategies (cooperatives)"
   ]
  }
 ],
 "metadata": {
  "hide_input": false,
  "kernelspec": {
   "display_name": "Python 3 (ipykernel)",
   "language": "python",
   "name": "python3"
  },
  "language_info": {
   "codemirror_mode": {
    "name": "ipython",
    "version": 3
   },
   "file_extension": ".py",
   "mimetype": "text/x-python",
   "name": "python",
   "nbconvert_exporter": "python",
   "pygments_lexer": "ipython3",
   "version": "3.10.10"
  },
  "nbTranslate": {
   "displayLangs": [
    "*"
   ],
   "hotkey": "alt-t",
   "langInMainMenu": true,
   "sourceLang": "es",
   "targetLang": "en",
   "useGoogleTranslate": true
  },
  "toc": {
   "base_numbering": "1",
   "nav_menu": {},
   "number_sections": true,
   "sideBar": true,
   "skip_h1_title": false,
   "title_cell": "Table of Contents",
   "title_sidebar": "Contents",
   "toc_cell": false,
   "toc_position": {
    "height": "409px",
    "left": "362px",
    "top": "111.141px",
    "width": "235px"
   },
   "toc_section_display": true,
   "toc_window_display": true
  }
 },
 "nbformat": 4,
 "nbformat_minor": 5
}
