{
 "cells": [
  {
   "cell_type": "code",
   "execution_count": 1,
   "id": "8365111e",
   "metadata": {
    "tags": [
     "remove-input"
    ]
   },
   "outputs": [],
   "source": [
    "import ipysheet\n",
    "import pandas as pd\n",
    "import numpy as np"
   ]
  },
  {
   "cell_type": "markdown",
   "id": "b4ab8ae9",
   "metadata": {
    "lang": "es"
   },
   "source": [
    "# Statement of Comprehensive Income "
   ]
  },
  {
   "cell_type": "markdown",
   "id": "1c63acee",
   "metadata": {
    "lang": "en"
   },
   "source": [
    "## Steps\n",
    "\n",
    "There are 4 main steps to obtain the \"Statement of Comprehensive Income\":\n",
    "\n",
    "1. Cost of direct materials used\n",
    "2. Total manufacturing costs incurred\n",
    "3. Cost of manufactured goods\n",
    "4. Cost of goods sold"
   ]
  },
  {
   "cell_type": "markdown",
   "id": "c5019b7f",
   "metadata": {
    "lang": "en"
   },
   "source": [
    "### Initial Data\n",
    "\n",
    "It is possible to see the initial data first it is a good idea to classify and identify the data."
   ]
  },
  {
   "cell_type": "code",
   "execution_count": 2,
   "id": "134be080",
   "metadata": {
    "tags": [
     "remove-input"
    ]
   },
   "outputs": [
    {
     "data": {
      "text/html": [
       "<iframe width=\"900\" height=\"450\" src=\"https://docs.google.com/spreadsheets/d/e/2PACX-1vSv5cQ7NgQEXce51DIgxzyCgmHQ-hesk-nWM0RfubWVZVw8ui_q4yNrbaAtu30m4VL8kGS4GJJSsbfB/pubhtml?gid=190775273&amp;single=true&amp;widget=true&amp;headers=false\"></iframe>\n"
      ],
      "text/plain": [
       "<IPython.core.display.HTML object>"
      ]
     },
     "metadata": {},
     "output_type": "display_data"
    }
   ],
   "source": [
    "%%html\n",
    "<iframe width=\"900\" height=\"450\" src=\"https://docs.google.com/spreadsheets/d/e/2PACX-1vSv5cQ7NgQEXce51DIgxzyCgmHQ-hesk-nWM0RfubWVZVw8ui_q4yNrbaAtu30m4VL8kGS4GJJSsbfB/pubhtml?gid=190775273&amp;single=true&amp;widget=true&amp;headers=false\"></iframe>"
   ]
  },
  {
   "cell_type": "markdown",
   "id": "80b5dde7",
   "metadata": {
    "lang": "en"
   },
   "source": [
    "### Statement of Comprehensive Income\n",
    "\n",
    "This statement is one of the most used, at the same time it requires certain calculations to obtain certain aggregate data."
   ]
  },
  {
   "cell_type": "markdown",
   "id": "84fcddb8",
   "metadata": {
    "lang": "en"
   },
   "source": [
    "#### Cost of direct materials available for use\n",
    "\n",
    "$$\\text{Cost of direct materials available for use} = \\text{Direct material, beginning inventory} + \\text{Purchase of direct materials}$$"
   ]
  },
  {
   "cell_type": "markdown",
   "id": "3d67d77a",
   "metadata": {
    "lang": "en"
   },
   "source": [
    "#### Direct materials used\n",
    "\n",
    "$$\\text{Direct materials used} = \\text{Cost of direct materials available for use} - \\text{Direct material, ending inventory}$$"
   ]
  },
  {
   "cell_type": "markdown",
   "id": "7bb8af82",
   "metadata": {
    "lang": "en"
   },
   "source": [
    "#### Total manufacturing overheads\n",
    "\n",
    "$$\\text{Total manufacturing overheads} = \\text{Depreciation on manufacturing plant} + \\text{Indirect manufacturing labour} + \\text{Manufacturing equipment lease costs} + \\text{Supplies} + \\text{Utilities}$$"
   ]
  },
  {
   "cell_type": "markdown",
   "id": "2cdd29f9",
   "metadata": {
    "lang": "en"
   },
   "source": [
    "#### Manufacturing costs incurred\n",
    "\n",
    "$$\\text{Manufacturing costs incurred} = \\text{Direct materials used} + \\text{Direct manufacturing labour} + \\text{Total manufacturing overheads}$$"
   ]
  },
  {
   "cell_type": "markdown",
   "id": "11d29470",
   "metadata": {
    "lang": "es"
   },
   "source": [
    "#### Total manufacturing costs to account for\n",
    "\n",
    "$$\\text{Total manufacturing costs to account for} = \\text{Manufacturing costs incurred} + \\text{Work in process, beginning inventory}$$"
   ]
  },
  {
   "cell_type": "markdown",
   "id": "924d849c",
   "metadata": {
    "lang": "es"
   },
   "source": [
    "#### Cost of goods manufactured\n",
    "\n",
    "$$\\text{Cost of goods manufactured} = \\text{Total manufacturing costs to account for} - \\text{Work in process, ending inventory}$$"
   ]
  },
  {
   "cell_type": "markdown",
   "id": "82e0dc24",
   "metadata": {
    "lang": "es"
   },
   "source": [
    "#### Cost of goods available for sale\n",
    "\n",
    "$$\\text{Cost of goods available for sale} = \\text{\tFinished goods, beginning inventory} + \\text{Cost of goods manufactured}$$"
   ]
  },
  {
   "cell_type": "markdown",
   "id": "77c76f35",
   "metadata": {
    "lang": "es"
   },
   "source": [
    "#### Cost of goods sold\n",
    "\n",
    "$$\\text{Cost of goods sold} = \\text{Cost of goods available for sale} - \\text{Finished goods, ending inventory}$$"
   ]
  },
  {
   "cell_type": "markdown",
   "id": "6dcceb69",
   "metadata": {
    "lang": "es"
   },
   "source": [
    "#### Gross margin\n",
    "\n",
    "$$\\text{Gross margin} = \\text{Revenues} - \\text{Cost of goods sold}$$"
   ]
  },
  {
   "cell_type": "markdown",
   "id": "1e20d4e4",
   "metadata": {
    "lang": "es"
   },
   "source": [
    "#### Operating income\n",
    "\n",
    "$$\\text{Operating income} = \\text{Gross margin} - \\text{Operating expenses}$$"
   ]
  },
  {
   "cell_type": "code",
   "execution_count": 3,
   "id": "7af76452",
   "metadata": {
    "tags": [
     "remove-input"
    ]
   },
   "outputs": [
    {
     "data": {
      "text/html": [
       "\n",
       "<iframe width=\"950\" height=\"520\" src=\"https://docs.google.com/spreadsheets/d/e/2PACX-1vSv5cQ7NgQEXce51DIgxzyCgmHQ-hesk-nWM0RfubWVZVw8ui_q4yNrbaAtu30m4VL8kGS4GJJSsbfB/pubhtml?gid=219266848&amp;single=true&amp;widget=true&amp;headers=false\"></iframe>\n"
      ],
      "text/plain": [
       "<IPython.core.display.HTML object>"
      ]
     },
     "metadata": {},
     "output_type": "display_data"
    }
   ],
   "source": [
    "%%html\n",
    "\n",
    "<iframe width=\"950\" height=\"520\" src=\"https://docs.google.com/spreadsheets/d/e/2PACX-1vSv5cQ7NgQEXce51DIgxzyCgmHQ-hesk-nWM0RfubWVZVw8ui_q4yNrbaAtu30m4VL8kGS4GJJSsbfB/pubhtml?gid=219266848&amp;single=true&amp;widget=true&amp;headers=false\"></iframe>"
   ]
  },
  {
   "cell_type": "markdown",
   "id": "90ab9fab",
   "metadata": {
    "lang": "en"
   },
   "source": [
    "### Steps\n",
    "\n",
    "It is possible to see how the data is ordered step by step."
   ]
  },
  {
   "cell_type": "code",
   "execution_count": 4,
   "id": "33703feb",
   "metadata": {
    "tags": [
     "remove-input"
    ]
   },
   "outputs": [
    {
     "data": {
      "text/html": [
       "\n",
       "<iframe width=\"950\" height=\"520\" src=\"https://docs.google.com/spreadsheets/d/e/2PACX-1vSv5cQ7NgQEXce51DIgxzyCgmHQ-hesk-nWM0RfubWVZVw8ui_q4yNrbaAtu30m4VL8kGS4GJJSsbfB/pubhtml?gid=516524177&amp;single=true&amp;widget=true&amp;headers=false\"></iframe>\n"
      ],
      "text/plain": [
       "<IPython.core.display.HTML object>"
      ]
     },
     "metadata": {},
     "output_type": "display_data"
    }
   ],
   "source": [
    "%%html\n",
    "\n",
    "<iframe width=\"950\" height=\"520\" src=\"https://docs.google.com/spreadsheets/d/e/2PACX-1vSv5cQ7NgQEXce51DIgxzyCgmHQ-hesk-nWM0RfubWVZVw8ui_q4yNrbaAtu30m4VL8kGS4GJJSsbfB/pubhtml?gid=516524177&amp;single=true&amp;widget=true&amp;headers=false\"></iframe>"
   ]
  }
 ],
 "metadata": {
  "hide_input": false,
  "kernelspec": {
   "display_name": "Python 3 (ipykernel)",
   "language": "python",
   "name": "python3"
  },
  "language_info": {
   "codemirror_mode": {
    "name": "ipython",
    "version": 3
   },
   "file_extension": ".py",
   "mimetype": "text/x-python",
   "name": "python",
   "nbconvert_exporter": "python",
   "pygments_lexer": "ipython3",
   "version": "3.10.10"
  },
  "nbTranslate": {
   "displayLangs": [
    "*"
   ],
   "hotkey": "alt-t",
   "langInMainMenu": true,
   "sourceLang": "es",
   "targetLang": "en",
   "useGoogleTranslate": true
  },
  "toc": {
   "base_numbering": 1,
   "nav_menu": {},
   "number_sections": true,
   "sideBar": true,
   "skip_h1_title": false,
   "title_cell": "Table of Contents",
   "title_sidebar": "Contents",
   "toc_cell": false,
   "toc_position": {
    "height": "calc(100% - 180px)",
    "left": "10px",
    "top": "150px",
    "width": "245px"
   },
   "toc_section_display": true,
   "toc_window_display": true
  }
 },
 "nbformat": 4,
 "nbformat_minor": 5
}
